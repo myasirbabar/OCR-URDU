{
 "cells": [
  {
   "cell_type": "markdown",
   "source": "# Libraries",
   "metadata": {
    "cell_id": "0fd4e522-16df-438c-8b66-54d54b09474a",
    "deepnote_cell_type": "markdown"
   }
  },
  {
   "cell_type": "code",
   "metadata": {
    "cell_id": "00001-690b5b06-9731-45fc-b37b-4009eb0a6e51",
    "deepnote_to_be_reexecuted": false,
    "source_hash": "bf6f86b9",
    "execution_start": 1645276905894,
    "execution_millis": 2893,
    "deepnote_cell_type": "code"
   },
   "source": "%matplotlib inline\nimport numpy as np\nfrom matplotlib import pyplot as plt",
   "execution_count": 1,
   "outputs": []
  },
  {
   "cell_type": "code",
   "metadata": {
    "cell_id": "00002-f676979a-3b30-4e9b-ac96-529683ecdb29",
    "deepnote_to_be_reexecuted": false,
    "source_hash": "acef1215",
    "execution_start": 1645276978612,
    "execution_millis": 3,
    "deepnote_cell_type": "code"
   },
   "source": "urdu_charcters = np.loadtxt(\"urdu.txt\",dtype=object)",
   "execution_count": 2,
   "outputs": []
  },
  {
   "cell_type": "markdown",
   "source": "### Loading Files",
   "metadata": {
    "cell_id": "00003-ff03f4e0-e484-41c1-8e16-6a670c9dd9cd",
    "deepnote_cell_type": "markdown"
   }
  },
  {
   "cell_type": "code",
   "metadata": {
    "cell_id": "00004-ab3ed03e-697c-47e2-84c7-222e936b3ed7",
    "deepnote_to_be_reexecuted": false,
    "source_hash": "2163bede",
    "execution_start": 1645276981457,
    "execution_millis": 42627,
    "deepnote_cell_type": "code"
   },
   "source": "#STORE TRAINIG & TESTING DATA IN NUMPY\ntrainX = np.loadtxt(\"trainX.txt\", dtype=int)\ntrainY = np.loadtxt(\"trainY.txt\",dtype=object)\n\ntestX = np.loadtxt(\"testX.txt\", dtype=int)\ntestY = np.loadtxt(\"testY.txt\",dtype=object)\n\n#print(testY)",
   "execution_count": 3,
   "outputs": []
  },
  {
   "cell_type": "markdown",
   "source": "### Calculating Probs for each class",
   "metadata": {
    "cell_id": "00005-9cdcbab0-40c4-43bb-a3d7-b2a7a857ef4b",
    "deepnote_cell_type": "markdown"
   }
  },
  {
   "cell_type": "code",
   "metadata": {
    "collapsed": true,
    "cell_id": "00006-197c53a8-b8f9-4f02-8ff5-d06f3cf00f5e",
    "deepnote_to_be_reexecuted": false,
    "source_hash": "8f569476",
    "execution_start": 1645277062958,
    "execution_millis": 8,
    "deepnote_cell_type": "code"
   },
   "source": "#PROBABLITY FOR each character CLASS\nchs = [697, 748, 811, 525, 829, 730, 819, 640, 621, 765, 715, 742, 822, 792, 749, 825, 689, 750, 778, 519, 824, 778, 723, 764, 768, 582, 512, 729, 595, 596, 751, 734, 580, 802, 759, 582, 537, 668, 754, 724]\n\nprobs = [ch/sum(chs) for ch in chs] # Comprehension approch to find prob for each charcater class\nprint(probs)",
   "execution_count": 4,
   "outputs": [
    {
     "name": "stdout",
     "text": "[0.024604631460039536, 0.026404970347359502, 0.028628918384637107, 0.01853290031064671, 0.029264332109573566, 0.025769556622423043, 0.02891132448460887, 0.022592487997740753, 0.021921773510307822, 0.02700508330979949, 0.025240045184975995, 0.026193165772380685, 0.029017226772098278, 0.02795820389720418, 0.026440271109855973, 0.029123129059587687, 0.024322225360067777, 0.026475571872352444, 0.0274639932222536, 0.01832109573566789, 0.029087828297091216, 0.0274639932222536, 0.025522451284947754, 0.02696978254730302, 0.027110985597288903, 0.020545043772945495, 0.018073990398192602, 0.025734255859926575, 0.021003953685399604, 0.021039254447896075, 0.026510872634848914, 0.025910759672408926, 0.020474442247952557, 0.02831121152216888, 0.026793278734820673, 0.020545043772945495, 0.01895650946060435, 0.02358090934764191, 0.026616774922338323, 0.025557752047444225]\n",
     "output_type": "stream"
    }
   ]
  },
  {
   "cell_type": "markdown",
   "source": "### Dividing training data into an individual classes ",
   "metadata": {
    "cell_id": "00007-ea5a3fc2-2892-4143-aabd-da13f83fcb9c",
    "deepnote_cell_type": "markdown"
   }
  },
  {
   "cell_type": "code",
   "metadata": {
    "collapsed": true,
    "cell_id": "00008-fddbb0b6-a3aa-4fb9-bf1f-7538a72e28aa",
    "deepnote_to_be_reexecuted": false,
    "source_hash": "b9dd5e81",
    "execution_start": 1645277066867,
    "execution_millis": 13,
    "deepnote_cell_type": "code"
   },
   "source": "#DIVIDE TRAIN DATA INTO 40 CLASSES\nst = 0\n\ntrain_data = list()\nfor ch in chs:\n    en = st + ch\n    train_data.append(trainX[st:en,:])\n    st += ch\n\nprint(train_data)",
   "execution_count": 5,
   "outputs": [
    {
     "name": "stdout",
     "text": "[array([[0, 0, 0, ..., 0, 0, 0],\n       [0, 0, 0, ..., 0, 0, 0],\n       [0, 0, 0, ..., 0, 0, 0],\n       ...,\n       [0, 0, 0, ..., 0, 0, 0],\n       [0, 0, 0, ..., 0, 0, 0],\n       [0, 0, 0, ..., 0, 0, 0]]), array([[0, 0, 0, ..., 0, 0, 0],\n       [0, 0, 0, ..., 0, 0, 0],\n       [0, 0, 0, ..., 0, 0, 0],\n       ...,\n       [0, 0, 0, ..., 0, 0, 0],\n       [0, 0, 0, ..., 0, 0, 0],\n       [0, 0, 0, ..., 0, 0, 0]]), array([[0, 0, 0, ..., 0, 0, 0],\n       [0, 0, 0, ..., 0, 0, 0],\n       [0, 0, 0, ..., 0, 0, 0],\n       ...,\n       [0, 0, 0, ..., 0, 0, 0],\n       [0, 0, 0, ..., 0, 0, 0],\n       [0, 0, 0, ..., 0, 0, 0]]), array([[0, 0, 0, ..., 0, 0, 0],\n       [0, 0, 0, ..., 0, 0, 0],\n       [0, 0, 0, ..., 0, 0, 0],\n       ...,\n       [0, 0, 0, ..., 0, 0, 0],\n       [0, 0, 0, ..., 0, 0, 0],\n       [0, 0, 0, ..., 0, 0, 0]]), array([[0, 0, 0, ..., 0, 0, 0],\n       [0, 0, 0, ..., 0, 0, 0],\n       [0, 0, 0, ..., 0, 0, 0],\n       ...,\n       [0, 0, 0, ..., 0, 0, 0],\n       [0, 0, 0, ..., 0, 0, 0],\n       [0, 0, 0, ..., 0, 0, 0]]), array([[0, 0, 0, ..., 0, 0, 0],\n       [0, 0, 0, ..., 0, 0, 0],\n       [0, 0, 0, ..., 0, 0, 0],\n       ...,\n       [0, 0, 0, ..., 0, 0, 0],\n       [0, 0, 0, ..., 0, 0, 0],\n       [0, 0, 0, ..., 0, 0, 0]]), array([[0, 0, 0, ..., 0, 0, 0],\n       [0, 0, 0, ..., 0, 0, 0],\n       [0, 0, 0, ..., 0, 0, 0],\n       ...,\n       [0, 0, 0, ..., 0, 0, 0],\n       [0, 0, 0, ..., 0, 0, 0],\n       [0, 0, 0, ..., 0, 0, 0]]), array([[0, 0, 0, ..., 0, 0, 0],\n       [0, 0, 0, ..., 0, 0, 0],\n       [0, 0, 0, ..., 0, 0, 0],\n       ...,\n       [0, 0, 0, ..., 0, 0, 0],\n       [0, 0, 0, ..., 0, 0, 0],\n       [0, 0, 0, ..., 0, 0, 0]]), array([[0, 0, 0, ..., 0, 0, 0],\n       [0, 0, 0, ..., 0, 0, 0],\n       [0, 0, 0, ..., 0, 0, 0],\n       ...,\n       [0, 0, 0, ..., 0, 0, 0],\n       [0, 0, 0, ..., 0, 0, 0],\n       [0, 0, 0, ..., 0, 0, 0]]), array([[0, 0, 0, ..., 0, 0, 0],\n       [0, 0, 0, ..., 0, 0, 0],\n       [0, 0, 0, ..., 0, 0, 0],\n       ...,\n       [0, 0, 0, ..., 0, 0, 0],\n       [0, 0, 0, ..., 0, 0, 0],\n       [0, 0, 0, ..., 0, 0, 0]]), array([[0, 0, 0, ..., 0, 0, 0],\n       [0, 0, 0, ..., 0, 0, 0],\n       [0, 0, 0, ..., 0, 0, 0],\n       ...,\n       [0, 0, 0, ..., 0, 0, 0],\n       [0, 0, 0, ..., 0, 0, 0],\n       [0, 0, 0, ..., 0, 0, 0]]), array([[0, 0, 0, ..., 0, 0, 0],\n       [0, 0, 0, ..., 0, 0, 0],\n       [0, 0, 0, ..., 0, 0, 0],\n       ...,\n       [0, 0, 0, ..., 0, 0, 0],\n       [0, 0, 0, ..., 0, 0, 0],\n       [0, 0, 0, ..., 0, 0, 0]]), array([[0, 0, 0, ..., 0, 0, 0],\n       [0, 0, 0, ..., 0, 0, 0],\n       [0, 0, 0, ..., 0, 0, 0],\n       ...,\n       [0, 0, 0, ..., 0, 0, 0],\n       [0, 0, 0, ..., 0, 0, 0],\n       [0, 0, 0, ..., 0, 0, 0]]), array([[0, 0, 0, ..., 0, 0, 0],\n       [0, 0, 0, ..., 0, 0, 0],\n       [0, 0, 0, ..., 0, 0, 0],\n       ...,\n       [0, 0, 0, ..., 0, 0, 0],\n       [0, 0, 0, ..., 0, 0, 0],\n       [0, 0, 0, ..., 0, 0, 0]]), array([[0, 0, 0, ..., 0, 0, 0],\n       [0, 0, 0, ..., 0, 0, 0],\n       [0, 0, 0, ..., 0, 0, 0],\n       ...,\n       [0, 0, 0, ..., 0, 0, 0],\n       [0, 0, 0, ..., 0, 0, 0],\n       [0, 0, 0, ..., 0, 0, 0]]), array([[0, 0, 0, ..., 0, 0, 0],\n       [0, 0, 0, ..., 0, 0, 0],\n       [0, 0, 0, ..., 0, 0, 0],\n       ...,\n       [0, 0, 0, ..., 0, 0, 0],\n       [0, 0, 0, ..., 0, 0, 0],\n       [0, 0, 0, ..., 0, 0, 0]]), array([[0, 0, 0, ..., 0, 0, 0],\n       [0, 0, 0, ..., 0, 0, 0],\n       [0, 0, 0, ..., 0, 0, 0],\n       ...,\n       [0, 0, 0, ..., 0, 0, 0],\n       [0, 0, 0, ..., 0, 0, 0],\n       [0, 0, 0, ..., 0, 0, 0]]), array([[0, 0, 0, ..., 0, 0, 0],\n       [0, 0, 0, ..., 0, 0, 0],\n       [0, 0, 0, ..., 0, 0, 0],\n       ...,\n       [0, 0, 0, ..., 0, 0, 0],\n       [0, 0, 0, ..., 0, 0, 0],\n       [0, 0, 0, ..., 0, 0, 0]]), array([[0, 0, 0, ..., 0, 0, 0],\n       [0, 0, 0, ..., 0, 0, 0],\n       [0, 0, 0, ..., 0, 0, 0],\n       ...,\n       [0, 0, 0, ..., 0, 0, 0],\n       [0, 0, 0, ..., 0, 0, 0],\n       [0, 0, 0, ..., 0, 0, 0]]), array([[0, 0, 0, ..., 0, 0, 0],\n       [0, 0, 0, ..., 0, 0, 0],\n       [0, 0, 0, ..., 0, 0, 0],\n       ...,\n       [0, 0, 0, ..., 0, 0, 0],\n       [0, 0, 0, ..., 0, 0, 0],\n       [0, 0, 0, ..., 0, 0, 0]]), array([[0, 0, 0, ..., 0, 0, 0],\n       [0, 0, 0, ..., 0, 0, 0],\n       [0, 0, 0, ..., 0, 0, 0],\n       ...,\n       [0, 0, 0, ..., 0, 0, 0],\n       [0, 0, 0, ..., 0, 0, 0],\n       [0, 0, 0, ..., 0, 0, 0]]), array([[0, 0, 0, ..., 0, 0, 0],\n       [0, 0, 0, ..., 0, 0, 0],\n       [0, 0, 0, ..., 0, 0, 0],\n       ...,\n       [0, 0, 0, ..., 0, 0, 0],\n       [0, 0, 0, ..., 0, 0, 0],\n       [0, 0, 0, ..., 0, 0, 0]]), array([[0, 0, 0, ..., 0, 0, 0],\n       [0, 0, 0, ..., 0, 0, 0],\n       [0, 0, 0, ..., 0, 0, 0],\n       ...,\n       [0, 0, 0, ..., 0, 0, 0],\n       [0, 0, 0, ..., 0, 0, 0],\n       [0, 0, 0, ..., 0, 0, 0]]), array([[0, 0, 0, ..., 0, 0, 0],\n       [0, 0, 0, ..., 0, 0, 0],\n       [0, 0, 0, ..., 0, 0, 0],\n       ...,\n       [0, 0, 0, ..., 0, 0, 0],\n       [0, 0, 0, ..., 0, 0, 0],\n       [0, 0, 0, ..., 0, 0, 0]]), array([[0, 0, 0, ..., 0, 0, 0],\n       [0, 0, 0, ..., 0, 0, 0],\n       [0, 0, 0, ..., 0, 0, 0],\n       ...,\n       [0, 0, 0, ..., 0, 0, 0],\n       [0, 0, 0, ..., 0, 0, 0],\n       [0, 0, 0, ..., 0, 0, 0]]), array([[0, 0, 0, ..., 0, 0, 0],\n       [0, 0, 0, ..., 0, 0, 0],\n       [0, 0, 0, ..., 0, 0, 0],\n       ...,\n       [0, 0, 0, ..., 0, 0, 0],\n       [0, 0, 0, ..., 0, 0, 0],\n       [0, 0, 0, ..., 0, 0, 0]]), array([[0, 0, 0, ..., 0, 0, 0],\n       [0, 0, 0, ..., 0, 0, 0],\n       [0, 0, 0, ..., 0, 0, 0],\n       ...,\n       [0, 0, 0, ..., 0, 0, 0],\n       [0, 0, 0, ..., 0, 0, 0],\n       [0, 0, 0, ..., 0, 0, 0]]), array([[0, 0, 0, ..., 0, 0, 0],\n       [0, 0, 0, ..., 0, 0, 0],\n       [0, 0, 0, ..., 0, 0, 0],\n       ...,\n       [0, 0, 0, ..., 0, 0, 0],\n       [0, 0, 0, ..., 0, 0, 0],\n       [0, 0, 0, ..., 0, 0, 0]]), array([[0, 0, 0, ..., 0, 0, 0],\n       [0, 0, 0, ..., 0, 0, 0],\n       [0, 0, 0, ..., 0, 0, 0],\n       ...,\n       [0, 0, 0, ..., 0, 0, 0],\n       [0, 0, 0, ..., 0, 0, 0],\n       [0, 0, 0, ..., 0, 0, 0]]), array([[0, 0, 0, ..., 0, 0, 0],\n       [0, 0, 0, ..., 0, 0, 0],\n       [0, 0, 0, ..., 0, 0, 0],\n       ...,\n       [0, 0, 0, ..., 0, 0, 0],\n       [0, 0, 0, ..., 0, 0, 0],\n       [0, 0, 0, ..., 0, 0, 0]]), array([[0, 0, 0, ..., 0, 0, 0],\n       [0, 0, 0, ..., 0, 0, 0],\n       [0, 0, 0, ..., 0, 0, 0],\n       ...,\n       [0, 0, 0, ..., 0, 0, 0],\n       [0, 0, 0, ..., 0, 0, 0],\n       [0, 0, 0, ..., 0, 0, 0]]), array([[0, 0, 0, ..., 0, 0, 0],\n       [0, 0, 0, ..., 0, 0, 0],\n       [0, 0, 0, ..., 0, 0, 0],\n       ...,\n       [0, 0, 0, ..., 0, 0, 0],\n       [0, 0, 0, ..., 0, 0, 0],\n       [0, 0, 0, ..., 0, 0, 0]]), array([[0, 0, 0, ..., 0, 0, 0],\n       [0, 0, 0, ..., 0, 0, 0],\n       [0, 0, 0, ..., 0, 0, 0],\n       ...,\n       [0, 0, 0, ..., 0, 0, 0],\n       [0, 0, 0, ..., 0, 0, 0],\n       [0, 0, 0, ..., 0, 0, 0]]), array([[0, 0, 0, ..., 0, 0, 0],\n       [0, 0, 0, ..., 0, 0, 0],\n       [0, 0, 0, ..., 0, 0, 0],\n       ...,\n       [0, 0, 0, ..., 0, 0, 0],\n       [0, 0, 0, ..., 0, 0, 0],\n       [0, 0, 0, ..., 0, 0, 0]]), array([[0, 0, 0, ..., 0, 0, 0],\n       [0, 0, 0, ..., 0, 0, 0],\n       [0, 0, 0, ..., 0, 0, 0],\n       ...,\n       [0, 0, 0, ..., 0, 0, 0],\n       [0, 0, 0, ..., 0, 0, 0],\n       [0, 0, 0, ..., 0, 0, 0]]), array([[0, 0, 0, ..., 0, 0, 0],\n       [0, 0, 0, ..., 0, 0, 0],\n       [0, 0, 0, ..., 0, 0, 0],\n       ...,\n       [0, 0, 0, ..., 0, 0, 0],\n       [0, 0, 0, ..., 0, 0, 0],\n       [0, 0, 0, ..., 0, 0, 0]]), array([[0, 0, 0, ..., 0, 0, 0],\n       [0, 0, 0, ..., 0, 0, 0],\n       [0, 0, 0, ..., 0, 0, 0],\n       ...,\n       [0, 0, 0, ..., 0, 0, 0],\n       [0, 0, 0, ..., 0, 0, 0],\n       [0, 0, 0, ..., 0, 0, 0]]), array([[0, 0, 0, ..., 0, 0, 0],\n       [0, 0, 0, ..., 0, 0, 0],\n       [0, 0, 0, ..., 0, 0, 0],\n       ...,\n       [0, 0, 0, ..., 0, 0, 0],\n       [0, 0, 0, ..., 0, 0, 0],\n       [0, 0, 0, ..., 0, 0, 0]]), array([[0, 0, 0, ..., 0, 0, 0],\n       [0, 0, 0, ..., 0, 0, 0],\n       [0, 0, 0, ..., 0, 0, 0],\n       ...,\n       [0, 0, 0, ..., 0, 0, 0],\n       [0, 0, 0, ..., 0, 0, 0],\n       [0, 0, 0, ..., 0, 0, 0]]), array([[0, 0, 0, ..., 0, 0, 0],\n       [0, 0, 0, ..., 0, 0, 0],\n       [0, 0, 0, ..., 0, 0, 0],\n       ...,\n       [0, 0, 0, ..., 0, 0, 0],\n       [0, 0, 0, ..., 0, 0, 0],\n       [0, 0, 0, ..., 0, 0, 0]])]\n",
     "output_type": "stream"
    }
   ]
  },
  {
   "cell_type": "markdown",
   "source": "###  Calculating Conditional Probs",
   "metadata": {
    "cell_id": "00009-ec4a2286-3a26-422c-ab8e-50b3d86a0ae5",
    "deepnote_cell_type": "markdown"
   }
  },
  {
   "cell_type": "code",
   "metadata": {
    "collapsed": true,
    "cell_id": "00010-aeecb7bf-3451-4d96-9f54-124e5727bf0d",
    "deepnote_to_be_reexecuted": false,
    "source_hash": "64e2ee44",
    "execution_start": 1645277070400,
    "execution_millis": 10,
    "deepnote_cell_type": "code"
   },
   "source": "for i in range(40):\n    print(len(train_data[i]))",
   "execution_count": 6,
   "outputs": [
    {
     "name": "stdout",
     "text": "697\n748\n811\n525\n829\n730\n819\n640\n621\n765\n715\n742\n822\n792\n749\n825\n689\n750\n778\n519\n824\n778\n723\n764\n768\n582\n512\n729\n595\n596\n751\n734\n580\n802\n759\n582\n537\n668\n754\n724\n",
     "output_type": "stream"
    }
   ]
  },
  {
   "cell_type": "code",
   "metadata": {
    "cell_id": "00011-25332d0b-ab3b-45d5-ae80-c71401aa5913",
    "deepnote_to_be_reexecuted": false,
    "source_hash": "449a5ef8",
    "execution_start": 1645280745388,
    "execution_millis": 16,
    "deepnote_cell_type": "code"
   },
   "source": "#ARRAY OF PROBS FOR EACH X IN TRAIN GIVEN 40 classes\n\none_prob = np.empty((40,784))\nzero_prob = np.empty_like(one_prob)\n\nfor i in range(len(train_data)):\n    one_prob[i] = (train_data[i].sum(axis = 0) + 1) / (len(train_data[i]) + 2)\n\nzero_prob = 1 - one_prob\n\n# print(one_prob)\n# print(zero_prob)",
   "execution_count": 54,
   "outputs": []
  },
  {
   "cell_type": "markdown",
   "source": "### Functions",
   "metadata": {
    "cell_id": "00012-1a395a48-0612-491f-a27a-143e436c61e0",
    "deepnote_cell_type": "markdown"
   }
  },
  {
   "cell_type": "code",
   "metadata": {
    "cell_id": "00013-bea70e90-79b3-4f18-bb38-efcab0c22670",
    "deepnote_to_be_reexecuted": false,
    "source_hash": "ced60eae",
    "execution_start": 1645280396590,
    "execution_millis": 3,
    "deepnote_cell_type": "code"
   },
   "source": "# RETURN PREDICTED CLASSES FOR A DATASET\n\ndef predictClass(data):\n    output_data = np.empty(len(data),dtype=object) # 1\n    count = 0\n\n    for img in data: # sample 1\n        x = 0 # x represents the bit in image\n        prob_entry = np.ones((40))\n\n        for bit in img: #  for j in range (1- 784):\n            if(bit == 0):\n                for index in range(len(prob_entry)):\n                    prob_entry[index]  = float(prob_entry[index]  * zero_prob[index][x])\n                \n            else:\n                for index in range(len(prob_entry)):\n                    prob_entry[index]  = float(prob_entry[index]  * one_prob[index][x])\n               \n            x+=1\n        \n        max_prob_index = np.where(prob_entry == np.amax(prob_entry))\n        \n        output_data[count] = urdu_charcters[max_prob_index]\n        \n        count += 1\n    \n    return output_data\n\n\n# RETURNS ACCURACY OF RESULTS\ndef accuracy(predicted, actual):\n    count = np.count_nonzero(predicted== actual)\n    acc = (count / len(predicted))*100\n    \n    return acc",
   "execution_count": 50,
   "outputs": []
  },
  {
   "cell_type": "markdown",
   "source": "#### Calculating Prediction and accuracy for Train Data",
   "metadata": {
    "cell_id": "00014-4a55bfda-255e-47be-901c-90381c65ea17",
    "deepnote_cell_type": "markdown"
   }
  },
  {
   "cell_type": "code",
   "metadata": {
    "cell_id": "00015-e679c37c-3fe9-4b9d-98e9-676def2e2ca3",
    "deepnote_to_be_reexecuted": false,
    "source_hash": "8f5b174c",
    "execution_start": 1645280808089,
    "execution_millis": 42295,
    "output_cleared": true,
    "deepnote_cell_type": "code"
   },
   "source": "predict_TrainY = predictClass(trainX)\nprint(predict_TrainY)\n\nprint(\"\\n\\nAccuracy For Training Data is \" , accuracy(predict_TrainY, trainY) ,\"%\")",
   "execution_count": 55,
   "outputs": []
  },
  {
   "cell_type": "markdown",
   "source": "#### Calculating Prediction and accuracy for testing data",
   "metadata": {
    "cell_id": "00016-44f6320c-90d1-492e-a786-e0dd6e8a1c1c",
    "deepnote_cell_type": "markdown"
   }
  },
  {
   "cell_type": "code",
   "metadata": {
    "cell_id": "00017-16fe6ecd-d813-47b7-8035-ea0192222332",
    "deepnote_to_be_reexecuted": false,
    "source_hash": "159e23a",
    "execution_start": 1645280406007,
    "execution_millis": 206774,
    "deepnote_cell_type": "code"
   },
   "source": "predict_TestY = predictClass(testX)\nprint(predict_TestY)\n      \n        \nprint(\"\\n\\nAccuracy For Testing Data is \" , accuracy(predict_TestY, testY) ,\"%\")",
   "execution_count": 51,
   "outputs": [
    {
     "name": "stdout",
     "text": "[array(['0x0627'], dtype=object) array(['0x0627'], dtype=object)\n array(['0x0627'], dtype=object) ... array(['0x0636'], dtype=object)\n array(['0x0634'], dtype=object) array(['0x0636'], dtype=object)]\n\n\nAccuracy For Testing Data is  55.67622950819672 %\n",
     "output_type": "stream"
    }
   ]
  },
  {
   "cell_type": "code",
   "source": "# for i in range(len(predict_TestY)):\n#     #print(chr(int(predict_TestY[i],16)))\n#     print(i)",
   "metadata": {
    "cell_id": "d0055124-f15d-45f0-a53d-c10832d7da68",
    "tags": [],
    "deepnote_to_be_reexecuted": false,
    "source_hash": "5cde7d0b",
    "execution_start": 1645280063762,
    "execution_millis": 12,
    "output_cleared": true,
    "deepnote_cell_type": "code"
   },
   "outputs": [],
   "execution_count": 37
  },
  {
   "cell_type": "code",
   "source": "for i in range(3000):\n    img = np.reshape(testX[i],(28,28))\n    plt.imshow(img)",
   "metadata": {
    "cell_id": "b9f49206-e7ef-4954-a212-6f8db6f2ae31",
    "tags": [],
    "deepnote_cell_type": "code"
   },
   "outputs": [],
   "execution_count": null
  },
  {
   "cell_type": "markdown",
   "source": "<a style='text-decoration:none;line-height:16px;display:flex;color:#5B5B62;padding:10px;justify-content:end;' href='https://deepnote.com?utm_source=created-in-deepnote-cell&projectId=0a3c5f34-b69f-40bb-87c1-9b28588bac02' target=\"_blank\">\n<img alt='Created in deepnote.com' style='display:inline;max-height:16px;margin:0px;margin-right:7.5px;' src='data:image/svg+xml;base64,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' > </img>\nCreated in <span style='font-weight:600;margin-left:4px;'>Deepnote</span></a>",
   "metadata": {
    "tags": [],
    "created_in_deepnote_cell": true,
    "deepnote_cell_type": "markdown"
   }
  }
 ],
 "nbformat": 4,
 "nbformat_minor": 5,
 "metadata": {
  "kernelspec": {
   "display_name": "Python 3",
   "language": "python",
   "name": "python3"
  },
  "language_info": {
   "codemirror_mode": {
    "name": "ipython",
    "version": 3
   },
   "file_extension": ".py",
   "mimetype": "text/x-python",
   "name": "python",
   "nbconvert_exporter": "python",
   "pygments_lexer": "ipython3",
   "version": "3.8.8"
  },
  "deepnote_notebook_id": "fbd64913-687e-45aa-bd87-f0c0327e57b9",
  "deepnote": {},
  "deepnote_execution_queue": []
 }
}