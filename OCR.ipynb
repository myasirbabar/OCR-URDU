{
 "cells": [
  {
   "cell_type": "code",
   "execution_count": 221,
   "id": "4e9e5418",
   "metadata": {},
   "outputs": [],
   "source": [
    "%matplotlib inline\n",
    "import numpy as np\n",
    "from matplotlib import pyplot as plt"
   ]
  },
  {
   "cell_type": "code",
   "execution_count": 222,
   "id": "32c5e61a",
   "metadata": {},
   "outputs": [
    {
     "data": {
      "text/plain": [
       "<matplotlib.image.AxesImage at 0x221d9adaf10>"
      ]
     },
     "execution_count": 222,
     "metadata": {},
     "output_type": "execute_result"
    },
    {
     "data": {
      "image/png": "[encoded data removed]",
      "text/plain": [
       "<Figure size 432x288 with 1 Axes>"
      ]
     },
     "metadata": {
      "needs_background": "light"
     },
     "output_type": "display_data"
    }
   ],
   "source": [
    "img2=np.array([0,0,0,0,0,0,0,0,0,0,0,0,0,0,0,0,0,0,1,1,1,0,0,0,0,0,0,0,0,0,0,0,0,1,1,0,0,0,0,0,0,0,0,\n",
    "0,0,1,0,0,1,0,0,0,0,0,0,0,0,0,0,0,1,1,0,0,1,0,0,0,0,0,0,0,0,0,0,0,1,1,0,0,1,0,0,0,0,0,0,0,0,0,0,0,1,\n",
    "1,1,0,1,0,0,0,0,0,0,0,0,0,0,1,1,0,1,0,1,0,0,0,0,0,0,0,0,0,0,1,0,0,1,0,1,0,0,0,0,0,0,0,0,0,1,0,0,0,1,\n",
    "0,1,1,1,1,1,1,1,1,1,1,1,0,0,0,1,1,0,0,0,0,0,0,0,0,0,0,0,0,0,0,0,1,0,0,0,0,0,0,0,0,0,0,0,0,0,0,0,1,0,\n",
    "0,0,0,0,0,0,0,0,0,0,0,0,0,0,1,0,0,0,0,0,0,0,0,0,0,0,0,0,0,0,1,0,0,0,0,0,0,0,0,0,0,0,0,0,0,0,1,0,0,0,\n",
    "0,0,0,0,0,0,0,0,0,0,0,0,0],dtype=np.uint8)\n",
    "img4=np.array([0,0,0,0,0,0,0,0,0,0,0,0,0,0,0,0,0,0,0,0,0,0,0,0,0,0,0,0,0,0,0,0,0,0,0,0,0,0,0,1,0,0,0,\n",
    "0,0,0,0,0,1,1,1,1,1,1,1,1,0,0,0,0,0,0,0,0,0,0,0,0,0,0,0,1,0,0,0,0,0,0,0,1,0,0,0,0,0,0,0,1,0,0,0,0,0,\n",
    "1,1,1,0,0,0,0,0,0,1,0,0,0,1,1,1,0,0,0,0,0,0,0,0,0,1,0,0,1,1,0,0,0,0,0,0,0,0,0,0,0,1,1,1,0,0,0,0,0,0,\n",
    "0,0,1,1,1,1,1,1,0,0,0,0,0,0,0,0,0,1,1,0,0,0,1,0,0,0,0,0,0,0,0,0,0,0,0,0,0,0,1,0,0,0,0,0,0,0,0,0,0,0,\n",
    "0,0,0,1,1,0,0,0,0,0,0,0,0,0,0,0,0,0,0,0,1,0,0,0,0,0,0,0,0,0,0,0,0,0,0,0,0,0,0,0,0,0,0,0,0,0,0,0,0,0,\n",
    "0,0,0,0,0,0,0,0,0,0,0,0,0],dtype=np.uint8)\n",
    "img = np.reshape(img4,(16,16),order='F')\n",
    "plt.imshow(img)"
   ]
  },
  {
   "cell_type": "markdown",
   "id": "862e054d",
   "metadata": {},
   "source": [
    "### Loading Files"
   ]
  },
  {
   "cell_type": "code",
   "execution_count": 223,
   "id": "4e4353ed",
   "metadata": {},
   "outputs": [],
   "source": [
    "#STORE TRAINIG & TESTING DATA IN NUMPY\n",
    "trainX = np.loadtxt(\"trainX.txt\", dtype=int)\n",
    "trainY = np.loadtxt(\"trainY.txt\", dtype=int)\n",
    "\n",
    "testX = np.loadtxt(\"testX.txt\", dtype=int)\n",
    "testY = np.loadtxt(\"testY.txt\", dtype=int)\n",
    "\n",
    "#print(testY)"
   ]
  },
  {
   "cell_type": "markdown",
   "id": "1c374096",
   "metadata": {},
   "source": [
    "### Calculating Probs and Conditional Probs"
   ]
  },
  {
   "cell_type": "code",
   "execution_count": 224,
   "id": "92af0ea6",
   "metadata": {},
   "outputs": [],
   "source": [
    "#PROBABLITY FOR TWO AND FOUR CLASS \n",
    "two_prob = 250/500\n",
    "four_prob = 1-two_prob\n",
    "\n",
    "#DIVIDE TRAIN DATA INTO CLASSES two and four\n",
    "two_train = trainX[:250,:]\n",
    "four_train = trainX[250:500,:]\n",
    "\n",
    "\n",
    "#ARRAY OF PROBS FOR EACH X IN TRAIN GIVEN CLASS 2\n",
    "one_two_prob = two_train.sum(axis = 0) / two_train.shape[0]     #P(x = 0 | class = 2)\n",
    "zero_two_prob = 1- one_two_prob                                 #P(x = 1 | class = 2)\n",
    "#print(zero_two_prob.shape)\n",
    "\n",
    "\n",
    "#ARRAY OF PROBS FOR EACH X IN TRAIN GIVEN CLASS 4\n",
    "one_four_prob = four_train.sum(axis = 0) / four_train.shape[0]  #P(x = 0 | class = 4)\n",
    "zero_four_prob = 1- one_four_prob                               #P(x = 1 | class = 4)\n",
    "#print(zero_four_prob)"
   ]
  },
  {
   "cell_type": "markdown",
   "id": "d66993d6",
   "metadata": {},
   "source": [
    "### Functions"
   ]
  },
  {
   "cell_type": "code",
   "execution_count": 225,
   "id": "f683f831",
   "metadata": {},
   "outputs": [],
   "source": [
    "# RETURN PREDICTED CLASS FOR A DATASET\n",
    "def predictClass(data):\n",
    "    output_data = np.empty(len(data))\n",
    "    c = 0\n",
    "\n",
    "    for i in data: \n",
    "        k = 0\n",
    "        prob_entry2 = 1\n",
    "        prob_entry4 = 1\n",
    "\n",
    "        for j in i:\n",
    "            if(j == 0):\n",
    "                prob_entry2  = float(prob_entry2  * zero_two_prob[k])\n",
    "                prob_entry4 = float(prob_entry4 * zero_four_prob[k])\n",
    "                \n",
    "            else:\n",
    "                prob_entry2 = float(prob_entry2 * one_two_prob[k])\n",
    "                prob_entry4 = float(prob_entry4 * one_four_prob[k])\n",
    "                \n",
    "            if prob_entry2 > prob_entry4:\n",
    "                output_data[c] = 2\n",
    "            else:\n",
    "                output_data[c] = 4\n",
    "                \n",
    "            k+=1\n",
    "\n",
    "        c += 1\n",
    "    \n",
    "    return output_data\n",
    "\n",
    "\n",
    "# RETURNS ACCURACY OF RESULTS\n",
    "def accuracy(predicted, actual):\n",
    "    count = np.count_nonzero(predicted== actual)\n",
    "    acc = (count / len(predicted))*100\n",
    "    \n",
    "    return acc"
   ]
  },
  {
   "cell_type": "markdown",
   "id": "6c87baea",
   "metadata": {},
   "source": [
    "#### Calculating Prediction and accuracy for Train Data"
   ]
  },
  {
   "cell_type": "code",
   "execution_count": 226,
   "id": "4ff6c755",
   "metadata": {},
   "outputs": [
    {
     "name": "stdout",
     "output_type": "stream",
     "text": [
      "[2. 2. 2. 2. 2. 2. 2. 2. 2. 2. 2. 2. 2. 2. 2. 2. 2. 2. 2. 2. 2. 2. 2. 2.\n",
      " 2. 2. 2. 2. 2. 2. 2. 2. 2. 2. 2. 2. 2. 2. 2. 2. 2. 2. 2. 2. 2. 2. 2. 2.\n",
      " 2. 2. 2. 2. 2. 2. 2. 2. 2. 2. 2. 2. 2. 2. 2. 2. 2. 2. 2. 2. 2. 2. 2. 2.\n",
      " 2. 2. 2. 2. 2. 2. 2. 2. 2. 2. 2. 2. 2. 2. 2. 2. 2. 2. 2. 2. 2. 2. 2. 2.\n",
      " 2. 2. 2. 2. 2. 2. 2. 2. 2. 2. 2. 2. 2. 2. 2. 2. 2. 2. 2. 2. 2. 2. 2. 2.\n",
      " 2. 2. 2. 2. 2. 2. 2. 2. 2. 2. 2. 2. 2. 2. 2. 2. 4. 2. 2. 2. 2. 2. 2. 2.\n",
      " 2. 2. 2. 2. 2. 2. 2. 2. 2. 2. 2. 2. 2. 2. 2. 2. 2. 2. 2. 2. 2. 2. 2. 2.\n",
      " 2. 2. 2. 2. 2. 2. 2. 2. 2. 2. 2. 2. 2. 2. 2. 2. 2. 2. 2. 2. 2. 2. 2. 2.\n",
      " 2. 2. 2. 2. 2. 2. 2. 2. 2. 2. 2. 2. 2. 2. 2. 2. 2. 2. 2. 2. 2. 2. 2. 2.\n",
      " 2. 2. 2. 2. 2. 2. 2. 2. 2. 2. 2. 2. 2. 2. 2. 2. 2. 2. 2. 2. 2. 2. 2. 2.\n",
      " 2. 2. 2. 2. 2. 2. 2. 2. 2. 2. 4. 4. 4. 4. 4. 4. 4. 4. 4. 4. 4. 4. 4. 4.\n",
      " 4. 4. 4. 4. 4. 4. 4. 4. 4. 4. 4. 4. 4. 4. 4. 4. 4. 4. 4. 2. 4. 4. 4. 4.\n",
      " 4. 4. 4. 4. 4. 4. 4. 4. 4. 4. 4. 4. 4. 4. 4. 4. 4. 4. 4. 4. 4. 4. 4. 4.\n",
      " 4. 4. 4. 4. 4. 4. 4. 4. 4. 4. 4. 4. 4. 4. 4. 4. 4. 4. 4. 4. 4. 4. 4. 4.\n",
      " 4. 4. 4. 4. 4. 4. 4. 4. 4. 4. 4. 4. 4. 4. 4. 4. 4. 4. 4. 4. 4. 4. 4. 4.\n",
      " 4. 4. 4. 4. 4. 4. 4. 4. 4. 4. 4. 4. 4. 4. 4. 4. 4. 4. 4. 4. 4. 4. 4. 2.\n",
      " 4. 4. 4. 4. 4. 4. 4. 4. 4. 4. 4. 4. 4. 4. 4. 4. 4. 4. 4. 4. 4. 4. 4. 4.\n",
      " 4. 4. 4. 4. 4. 4. 4. 4. 4. 4. 4. 4. 4. 4. 4. 4. 4. 4. 4. 4. 4. 4. 4. 4.\n",
      " 4. 4. 4. 4. 4. 4. 4. 4. 4. 4. 4. 4. 4. 4. 4. 4. 4. 4. 4. 4. 4. 4. 4. 4.\n",
      " 4. 4. 4. 4. 4. 4. 4. 4. 4. 4. 4. 4. 4. 4. 4. 4. 4. 4. 4. 4. 4. 4. 4. 4.\n",
      " 4. 4. 4. 4. 4. 4. 4. 4. 4. 4. 4. 4. 4. 4. 4. 4. 4. 4. 4. 4.]\n",
      "\n",
      "\n",
      "Accuracy For Training Data is  99.4 %\n"
     ]
    }
   ],
   "source": [
    "predict_TrainY = predictClass(trainX)\n",
    "print(predict_TrainY)\n",
    "\n",
    "print(\"\\n\\nAccuracy For Training Data is \" , accuracy(predict_TrainY, trainY) ,\"%\")"
   ]
  },
  {
   "cell_type": "markdown",
   "id": "c9119871",
   "metadata": {},
   "source": [
    "#### Calculating Prediction and accuracy for testing data"
   ]
  },
  {
   "cell_type": "code",
   "execution_count": 227,
   "id": "7067cdf8",
   "metadata": {},
   "outputs": [
    {
     "name": "stdout",
     "output_type": "stream",
     "text": [
      "[2. 2. 2. 2. 2. 2. 2. 2. 2. 2. 2. 2. 2. 2. 2. 2. 2. 2. 2. 2. 2. 2. 2. 2.\n",
      " 2. 2. 2. 2. 2. 2. 2. 2. 2. 2. 2. 2. 2. 2. 2. 2. 2. 2. 2. 2. 2. 2. 2. 2.\n",
      " 2. 2. 4. 4. 4. 4. 4. 4. 4. 4. 4. 4. 4. 4. 4. 4. 4. 4. 4. 4. 4. 4. 4. 4.\n",
      " 4. 4. 4. 4. 4. 4. 4. 4. 4. 4. 4. 4. 4. 4. 4. 4. 4. 4. 4. 4. 4. 4. 4. 4.\n",
      " 4. 4. 4. 4.]\n",
      "\n",
      "\n",
      "Accuracy For Testing Data is  100.0 %\n"
     ]
    }
   ],
   "source": [
    "predict_TestY = predictClass(testX)\n",
    "print(predict_TestY)\n",
    "\n",
    "\n",
    "# for i in range(len(predict_TestY)):\n",
    "#     if predict_TestY[i] == 2:\n",
    "#         img = np.reshape(testX[i],(16,16),order='F')\n",
    "#         plt.imshow(img)\n",
    "#         print(\"RESULT 2 PICTURE \\n\\n\")\n",
    "#     else:\n",
    "#         img = np.reshape(testX[i],(16,16),order='F')\n",
    "#         plt.imshow(img)\n",
    "#         print(\"RESULT 4 PICTURE \\n\\n\")\n",
    "        \n",
    "        \n",
    "print(\"\\n\\nAccuracy For Testing Data is \" , accuracy(predict_TestY, testY) ,\"%\")"
   ]
  }
 ],
 "metadata": {
  "kernelspec": {
   "display_name": "Python 3",
   "language": "python",
   "name": "python3"
  },
  "language_info": {
   "codemirror_mode": {
    "name": "ipython",
    "version": 3
   },
   "file_extension": ".py",
   "mimetype": "text/x-python",
   "name": "python",
   "nbconvert_exporter": "python",
   "pygments_lexer": "ipython3",
   "version": "3.8.8"
  }
 },
 "nbformat": 4,
 "nbformat_minor": 5
}
