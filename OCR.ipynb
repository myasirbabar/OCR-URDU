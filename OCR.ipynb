{
 "cells": [
  {
   "cell_type": "code",
   "metadata": {
    "cell_id": "75db8dc3-a843-414a-a232-3e4ddc20a2ea",
    "deepnote_to_be_reexecuted": false,
    "source_hash": "a9524037",
    "execution_start": 1644134305492,
    "execution_millis": 6,
    "deepnote_cell_type": "code"
   },
   "source": "%matplotlib inline\nimport numpy as np\nfrom matplotlib import pyplot as plt\n\nprint(\"I am updated one\")",
   "execution_count": 2,
   "outputs": [
    {
     "name": "stdout",
     "text": "I am updated one\n",
     "output_type": "stream"
    }
   ]
  },
  {
   "cell_type": "code",
   "metadata": {
    "cell_id": "00001-5c564e96-0145-4161-941c-abb0ef703de0",
    "deepnote_output_heights": [
     1,
     250
    ],
    "deepnote_cell_type": "code"
   },
   "source": "img2=np.array([0,0,0,0,0,0,0,0,0,0,0,0,0,0,0,0,0,0,1,1,1,0,0,0,0,0,0,0,0,0,0,0,0,1,1,0,0,0,0,0,0,0,0,\n0,0,1,0,0,1,0,0,0,0,0,0,0,0,0,0,0,1,1,0,0,1,0,0,0,0,0,0,0,0,0,0,0,1,1,0,0,1,0,0,0,0,0,0,0,0,0,0,0,1,\n1,1,0,1,0,0,0,0,0,0,0,0,0,0,1,1,0,1,0,1,0,0,0,0,0,0,0,0,0,0,1,0,0,1,0,1,0,0,0,0,0,0,0,0,0,1,0,0,0,1,\n0,1,1,1,1,1,1,1,1,1,1,1,0,0,0,1,1,0,0,0,0,0,0,0,0,0,0,0,0,0,0,0,1,0,0,0,0,0,0,0,0,0,0,0,0,0,0,0,1,0,\n0,0,0,0,0,0,0,0,0,0,0,0,0,0,1,0,0,0,0,0,0,0,0,0,0,0,0,0,0,0,1,0,0,0,0,0,0,0,0,0,0,0,0,0,0,0,1,0,0,0,\n0,0,0,0,0,0,0,0,0,0,0,0,0],dtype=np.uint8)\nimg4=np.array([0,0,0,0,0,0,0,0,0,0,0,0,0,0,0,0,0,0,0,0,0,0,0,0,0,0,0,0,0,0,0,0,0,0,0,0,0,0,0,1,0,0,0,\n0,0,0,0,0,1,1,1,1,1,1,1,1,0,0,0,0,0,0,0,0,0,0,0,0,0,0,0,1,0,0,0,0,0,0,0,1,0,0,0,0,0,0,0,1,0,0,0,0,0,\n1,1,1,0,0,0,0,0,0,1,0,0,0,1,1,1,0,0,0,0,0,0,0,0,0,1,0,0,1,1,0,0,0,0,0,0,0,0,0,0,0,1,1,1,0,0,0,0,0,0,\n0,0,1,1,1,1,1,1,0,0,0,0,0,0,0,0,0,1,1,0,0,0,1,0,0,0,0,0,0,0,0,0,0,0,0,0,0,0,1,0,0,0,0,0,0,0,0,0,0,0,\n0,0,0,1,1,0,0,0,0,0,0,0,0,0,0,0,0,0,0,0,1,0,0,0,0,0,0,0,0,0,0,0,0,0,0,0,0,0,0,0,0,0,0,0,0,0,0,0,0,0,\n0,0,0,0,0,0,0,0,0,0,0,0,0],dtype=np.uint8)\nimg = np.reshape(img4,(16,16),order='F')\nplt.imshow(img)",
   "execution_count": 222,
   "outputs": [
    {
     "data": {
      "text/plain": "<matplotlib.image.AxesImage at 0x221d9adaf10>"
     },
     "execution_count": 222,
     "metadata": {},
     "output_type": "execute_result"
    },
    {
     "data": {
      "image/png": "[encoded data removed]",
      "text/plain": "<Figure size 432x288 with 1 Axes>"
     },
     "metadata": {
      "needs_background": "light",
      "image/png": {
       "width": 255,
       "height": 248
      }
     },
     "output_type": "display_data"
    }
   ]
  },
  {
   "cell_type": "markdown",
   "source": "### Loading Files",
   "metadata": {
    "cell_id": "00002-e1d05244-5bd4-4535-bea3-005a065f41e1",
    "deepnote_cell_type": "markdown"
   }
  },
  {
   "cell_type": "code",
   "metadata": {
    "cell_id": "00003-d3cdbe86-3474-4e5b-88c1-3b440fd5c0a1",
    "deepnote_cell_type": "code"
   },
   "source": "#STORE TRAINIG & TESTING DATA IN NUMPY\ntrainX = np.loadtxt(\"trainX.txt\", dtype=int)\ntrainY = np.loadtxt(\"trainY.txt\", dtype=int)\n\ntestX = np.loadtxt(\"testX.txt\", dtype=int)\ntestY = np.loadtxt(\"testY.txt\", dtype=int)\n\n#print(testY)",
   "execution_count": 223,
   "outputs": []
  },
  {
   "cell_type": "markdown",
   "source": "### Calculating Probs and Conditional Probs",
   "metadata": {
    "cell_id": "00004-be016bb5-77a5-4723-9abf-a30ee74d7eb3",
    "deepnote_cell_type": "markdown"
   }
  },
  {
   "cell_type": "code",
   "metadata": {
    "cell_id": "00005-c0256529-78f2-4e35-bb92-f203be7c4959",
    "deepnote_cell_type": "code"
   },
   "source": "#PROBABLITY FOR TWO AND FOUR CLASS \ntwo_prob = 250/500\nfour_prob = 1-two_prob\n\n#DIVIDE TRAIN DATA INTO CLASSES two and four\ntwo_train = trainX[:250,:]\nfour_train = trainX[250:500,:]\n\n\n#ARRAY OF PROBS FOR EACH X IN TRAIN GIVEN CLASS 2\none_two_prob = two_train.sum(axis = 0) / two_train.shape[0]     #P(x = 0 | class = 2)\nzero_two_prob = 1- one_two_prob                                 #P(x = 1 | class = 2)\n#print(zero_two_prob.shape)\n\n\n#ARRAY OF PROBS FOR EACH X IN TRAIN GIVEN CLASS 4\none_four_prob = four_train.sum(axis = 0) / four_train.shape[0]  #P(x = 0 | class = 4)\nzero_four_prob = 1- one_four_prob                               #P(x = 1 | class = 4)\n#print(zero_four_prob)",
   "execution_count": 224,
   "outputs": []
  },
  {
   "cell_type": "markdown",
   "source": "### Functions",
   "metadata": {
    "cell_id": "00006-0f60c033-24fc-46b4-baed-38d9b52f8091",
    "deepnote_cell_type": "markdown"
   }
  },
  {
   "cell_type": "code",
   "metadata": {
    "cell_id": "00007-c86500a7-8cb6-4598-8d6a-90dab56b4edd",
    "deepnote_cell_type": "code"
   },
   "source": "# RETURN PREDICTED CLASS FOR A DATASET\ndef predictClass(data):\n    output_data = np.empty(len(data))\n    c = 0\n\n    for i in data: \n        k = 0\n        prob_entry2 = 1\n        prob_entry4 = 1\n\n        for j in i:\n            if(j == 0):\n                prob_entry2  = float(prob_entry2  * zero_two_prob[k])\n                prob_entry4 = float(prob_entry4 * zero_four_prob[k])\n                \n            else:\n                prob_entry2 = float(prob_entry2 * one_two_prob[k])\n                prob_entry4 = float(prob_entry4 * one_four_prob[k])\n                \n            if prob_entry2 > prob_entry4:\n                output_data[c] = 2\n            else:\n                output_data[c] = 4\n                \n            k+=1\n\n        c += 1\n    \n    return output_data\n\n\n# RETURNS ACCURACY OF RESULTS\ndef accuracy(predicted, actual):\n    count = np.count_nonzero(predicted== actual)\n    acc = (count / len(predicted))*100\n    \n    return acc",
   "execution_count": 225,
   "outputs": []
  },
  {
   "cell_type": "markdown",
   "source": "#### Calculating Prediction and accuracy for Train Data",
   "metadata": {
    "cell_id": "00008-1edb721e-b7df-4b43-914a-542d0466d52d",
    "deepnote_cell_type": "markdown"
   }
  },
  {
   "cell_type": "code",
   "metadata": {
    "cell_id": "00009-dd1027ad-a222-4fa7-9c26-f9aa8a982718",
    "deepnote_cell_type": "code"
   },
   "source": "predict_TrainY = predictClass(trainX)\nprint(predict_TrainY)\n\nprint(\"\\n\\nAccuracy For Training Data is \" , accuracy(predict_TrainY, trainY) ,\"%\")",
   "execution_count": 226,
   "outputs": [
    {
     "name": "stdout",
     "output_type": "stream",
     "text": "[2. 2. 2. 2. 2. 2. 2. 2. 2. 2. 2. 2. 2. 2. 2. 2. 2. 2. 2. 2. 2. 2. 2. 2.\n 2. 2. 2. 2. 2. 2. 2. 2. 2. 2. 2. 2. 2. 2. 2. 2. 2. 2. 2. 2. 2. 2. 2. 2.\n 2. 2. 2. 2. 2. 2. 2. 2. 2. 2. 2. 2. 2. 2. 2. 2. 2. 2. 2. 2. 2. 2. 2. 2.\n 2. 2. 2. 2. 2. 2. 2. 2. 2. 2. 2. 2. 2. 2. 2. 2. 2. 2. 2. 2. 2. 2. 2. 2.\n 2. 2. 2. 2. 2. 2. 2. 2. 2. 2. 2. 2. 2. 2. 2. 2. 2. 2. 2. 2. 2. 2. 2. 2.\n 2. 2. 2. 2. 2. 2. 2. 2. 2. 2. 2. 2. 2. 2. 2. 2. 4. 2. 2. 2. 2. 2. 2. 2.\n 2. 2. 2. 2. 2. 2. 2. 2. 2. 2. 2. 2. 2. 2. 2. 2. 2. 2. 2. 2. 2. 2. 2. 2.\n 2. 2. 2. 2. 2. 2. 2. 2. 2. 2. 2. 2. 2. 2. 2. 2. 2. 2. 2. 2. 2. 2. 2. 2.\n 2. 2. 2. 2. 2. 2. 2. 2. 2. 2. 2. 2. 2. 2. 2. 2. 2. 2. 2. 2. 2. 2. 2. 2.\n 2. 2. 2. 2. 2. 2. 2. 2. 2. 2. 2. 2. 2. 2. 2. 2. 2. 2. 2. 2. 2. 2. 2. 2.\n 2. 2. 2. 2. 2. 2. 2. 2. 2. 2. 4. 4. 4. 4. 4. 4. 4. 4. 4. 4. 4. 4. 4. 4.\n 4. 4. 4. 4. 4. 4. 4. 4. 4. 4. 4. 4. 4. 4. 4. 4. 4. 4. 4. 2. 4. 4. 4. 4.\n 4. 4. 4. 4. 4. 4. 4. 4. 4. 4. 4. 4. 4. 4. 4. 4. 4. 4. 4. 4. 4. 4. 4. 4.\n 4. 4. 4. 4. 4. 4. 4. 4. 4. 4. 4. 4. 4. 4. 4. 4. 4. 4. 4. 4. 4. 4. 4. 4.\n 4. 4. 4. 4. 4. 4. 4. 4. 4. 4. 4. 4. 4. 4. 4. 4. 4. 4. 4. 4. 4. 4. 4. 4.\n 4. 4. 4. 4. 4. 4. 4. 4. 4. 4. 4. 4. 4. 4. 4. 4. 4. 4. 4. 4. 4. 4. 4. 2.\n 4. 4. 4. 4. 4. 4. 4. 4. 4. 4. 4. 4. 4. 4. 4. 4. 4. 4. 4. 4. 4. 4. 4. 4.\n 4. 4. 4. 4. 4. 4. 4. 4. 4. 4. 4. 4. 4. 4. 4. 4. 4. 4. 4. 4. 4. 4. 4. 4.\n 4. 4. 4. 4. 4. 4. 4. 4. 4. 4. 4. 4. 4. 4. 4. 4. 4. 4. 4. 4. 4. 4. 4. 4.\n 4. 4. 4. 4. 4. 4. 4. 4. 4. 4. 4. 4. 4. 4. 4. 4. 4. 4. 4. 4. 4. 4. 4. 4.\n 4. 4. 4. 4. 4. 4. 4. 4. 4. 4. 4. 4. 4. 4. 4. 4. 4. 4. 4. 4.]\n\n\nAccuracy For Training Data is  99.4 %\n"
    }
   ]
  },
  {
   "cell_type": "markdown",
   "source": "#### Calculating Prediction and accuracy for testing data",
   "metadata": {
    "cell_id": "00010-e7b288af-2efd-4f3f-9885-771e11e286c0",
    "deepnote_cell_type": "markdown"
   }
  },
  {
   "cell_type": "code",
   "metadata": {
    "cell_id": "00011-ebbc24b6-eb17-4cc6-a9f8-27b31a9f92c9",
    "deepnote_cell_type": "code"
   },
   "source": "predict_TestY = predictClass(testX)\nprint(predict_TestY)\n\n\n# for i in range(len(predict_TestY)):\n#     if predict_TestY[i] == 2:\n#         img = np.reshape(testX[i],(16,16),order='F')\n#         plt.imshow(img)\n#         print(\"RESULT 2 PICTURE \\n\\n\")\n#     else:\n#         img = np.reshape(testX[i],(16,16),order='F')\n#         plt.imshow(img)\n#         print(\"RESULT 4 PICTURE \\n\\n\")\n        \n        \nprint(\"\\n\\nAccuracy For Testing Data is \" , accuracy(predict_TestY, testY) ,\"%\")",
   "execution_count": 227,
   "outputs": [
    {
     "name": "stdout",
     "output_type": "stream",
     "text": "[2. 2. 2. 2. 2. 2. 2. 2. 2. 2. 2. 2. 2. 2. 2. 2. 2. 2. 2. 2. 2. 2. 2. 2.\n 2. 2. 2. 2. 2. 2. 2. 2. 2. 2. 2. 2. 2. 2. 2. 2. 2. 2. 2. 2. 2. 2. 2. 2.\n 2. 2. 4. 4. 4. 4. 4. 4. 4. 4. 4. 4. 4. 4. 4. 4. 4. 4. 4. 4. 4. 4. 4. 4.\n 4. 4. 4. 4. 4. 4. 4. 4. 4. 4. 4. 4. 4. 4. 4. 4. 4. 4. 4. 4. 4. 4. 4. 4.\n 4. 4. 4. 4.]\n\n\nAccuracy For Testing Data is  100.0 %\n"
    }
   ]
  },
  {
   "cell_type": "markdown",
   "source": "<a style='text-decoration:none;line-height:16px;display:flex;color:#5B5B62;padding:10px;justify-content:end;' href='https://deepnote.com?utm_source=created-in-deepnote-cell&projectId=0a3c5f34-b69f-40bb-87c1-9b28588bac02' target=\"_blank\">\n<img alt='Created in deepnote.com' style='display:inline;max-height:16px;margin:0px;margin-right:7.5px;' src='data:image/svg+xml;base64,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' > </img>\nCreated in <span style='font-weight:600;margin-left:4px;'>Deepnote</span></a>",
   "metadata": {
    "tags": [],
    "created_in_deepnote_cell": true,
    "deepnote_cell_type": "markdown"
   }
  }
 ],
 "nbformat": 4,
 "nbformat_minor": 5,
 "metadata": {
  "kernelspec": {
   "display_name": "Python 3",
   "language": "python",
   "name": "python3"
  },
  "language_info": {
   "codemirror_mode": {
    "name": "ipython",
    "version": 3
   },
   "file_extension": ".py",
   "mimetype": "text/x-python",
   "name": "python",
   "nbconvert_exporter": "python",
   "pygments_lexer": "ipython3",
   "version": "3.8.8"
  },
  "deepnote_notebook_id": "43d55da6-259a-4e31-8be0-9ef6548d8eff",
  "deepnote": {},
  "deepnote_execution_queue": []
 }
}